{
  "nbformat": 4,
  "nbformat_minor": 0,
  "metadata": {
    "colab": {
      "provenance": [],
      "mount_file_id": "1BhKf9GWf_cprup0OVu31fAHUVO-CugXf",
      "authorship_tag": "ABX9TyMCIAxtze1Q99txjrrCmUU4",
      "include_colab_link": true
    },
    "kernelspec": {
      "name": "python3",
      "display_name": "Python 3"
    },
    "language_info": {
      "name": "python"
    }
  },
  "cells": [
    {
      "cell_type": "markdown",
      "metadata": {
        "id": "view-in-github",
        "colab_type": "text"
      },
      "source": [
        "<a href=\"https://colab.research.google.com/github/Theanh130124/Datamining_srccode/blob/main/Data_minig_BT1.ipynb\" target=\"_parent\"><img src=\"https://colab.research.google.com/assets/colab-badge.svg\" alt=\"Open In Colab\"/></a>"
      ]
    },
    {
      "cell_type": "code",
      "execution_count": 4,
      "metadata": {
        "id": "BzCG0rTSkZAL"
      },
      "outputs": [],
      "source": [
        "import pandas as pd\n",
        "#Đọc dữ liệu từ 4 file\n",
        "df1 = pd.read_excel('/content/sample_data/DSSV1.xlsx')\n",
        "df2 = pd.read_excel('/content/sample_data/DSSV2.xlsx')\n",
        "df3 = pd.read_excel('/content/sample_data/DSSV3.xlsx',header=0 , names=['STT','MSSV','Ho','Ten','NgayThang'])\n",
        "df4 = pd.read_excel('/content/sample_data/DSSV4.xlsx')"
      ]
    },
    {
      "cell_type": "markdown",
      "source": [
        "Chuẩn hóa dữ liệu từng DataFrame"
      ],
      "metadata": {
        "id": "poC3Na7Zle2L"
      }
    },
    {
      "cell_type": "code",
      "source": [
        "df1 = df1.rename(columns={'Ho5':'Ho','Ngay':'Ngay','Thang':'Thang','Nam':'Nam'})\n",
        "#Điền các giá trị 0 thành NaN\n",
        "df1 =df1.fillna(0)\n",
        "#Chuyển đổi dữ liệu các cột Ngày Tháng Năm thành int\n",
        "df1['Ngay'] = df1['Ngay'].astype(int)\n",
        "df1['Thang'] = df1['Thang'].astype(int)\n",
        "df1['Nam'] = df1['Nam'].astype(int)\n",
        "print(df1)\n",
        "#"
      ],
      "metadata": {
        "colab": {
          "base_uri": "https://localhost:8080/"
        },
        "id": "O22XyyE_ljFd",
        "outputId": "87d138f9-713f-40e7-921a-d55a078e3bce"
      },
      "execution_count": 5,
      "outputs": [
        {
          "output_type": "stream",
          "name": "stdout",
          "text": [
            "    STT        MSSV                 Ho     Ten  Ngay  Thang   Nam\n",
            "0     1  1851050151             Trương      An     5     12  2004\n",
            "1     2  1551010137           Lê Dương     Anh     5     13  2001\n",
            "2     3  1851010147          Trần Thùy     Bảo     8      4  2002\n",
            "3     4  1551010140       Lê Hoàng Huy     Bảo    14      3  2002\n",
            "4     5  1651010156    Nguyễn Thị Hồng    Bình    23     10  2001\n",
            "..  ...         ...                ...     ...   ...    ...   ...\n",
            "63   64  1851010154  Trương Ngọc Thanh     Trí     3     11  2001\n",
            "64   65  1851010003    Nguyễn Phạm Kim    Trực     6      6  2001\n",
            "65   66  1851010005        Lương Thành   Trung    21     11  2004\n",
            "66   67  1551010010        Huỳnh Phước  Trường    28      0  2002\n",
            "67   68  1751012003         Trịnh Chấn  Trường    21     13  2002\n",
            "\n",
            "[68 rows x 7 columns]\n"
          ]
        }
      ]
    },
    {
      "cell_type": "code",
      "source": [
        "df2[['Nam','Thang','Ngay']] = df2['yyyy-mm-dd'].str.split('-',expand=True)\n",
        "df2 = df2.fillna(0)\n",
        "\n",
        "df2['Ngay'] = df2['Ngay'].astype(int)\n",
        "df2['Thang'] = df2['Thang'].astype(int)\n",
        "df2['Nam'] = df2['Nam'].astype(int)\n",
        "#Xóa cột ngày tháng năm cũ\n",
        "df2 = df2.drop('yyyy-mm-dd',axis=1)\n",
        "#Đặt lại tên các cột\n",
        "df2 = df2.rename(columns={'Họ Lót':'Ho' , 'Tên':'Ten'})\n",
        "print(df2)\n",
        "#\n"
      ],
      "metadata": {
        "colab": {
          "base_uri": "https://localhost:8080/"
        },
        "id": "REoYtRHvmKuh",
        "outputId": "bb11ae79-8851-4e72-8afc-ecac14b758dd"
      },
      "execution_count": 6,
      "outputs": [
        {
          "output_type": "stream",
          "name": "stdout",
          "text": [
            "    STT        MSSV                 Ho     Ten   Nam  Thang  Ngay\n",
            "0     1  1851010114        Ngũyên Công      An  2000      6     3\n",
            "1     2  1851010118      Ngũyên Lê Hữu      Ân  2003     10    28\n",
            "2     3  1851010127      Đổng Vũ Trọng     Bảo  2002      0    23\n",
            "3     4  1654052116           Phan Văn    Bình  2002      7    20\n",
            "4     5  1651010142   Ngũyên Thị Thiên     Duy  2001     13    25\n",
            "5     6  1851010039          Đinh Viết     Đạt  2004     13    12\n",
            "6     7  1851010036          Vương Gia     Đạt  1999     10    13\n",
            "7     8  1851010038     Đoàn Trần Minh     Đạt  2003      8    12\n",
            "8     9  1851010044            Ngô Cao     Đạt  2002      2    28\n",
            "9    10  1851010003            Lê Điền    Đăng  2000     12    15\n",
            "10   11  1851010010                Mạc     Hải  2003      2    23\n",
            "11   12  1851010014       Ngũyên Phước     Hào  2001      2    21\n",
            "12   13  1851050009            Cao Văn     Hào  2000      0    27\n",
            "13   14  1751010014       Ngũyên Hoàng     Hậu  2003      1    16\n",
            "14   15  1851010023          Ngũyên Bá    Hoài  2001      0    23\n",
            "15   16  1851010024           Trần Huy   Hoàng  1999      1    12\n",
            "16   17  1851010025       Ngũyên Thành    Khải  2004     10     4\n",
            "17   18  1851010029        Ngũyên Mạnh    Khôi  2002     10    26\n",
            "18   19  1751010025                  0  Khương  1999     12    12\n",
            "19   20  1851010131           Tăng Đại    Long     0      0     0\n",
            "20   21  1851010137      Phạm Thị Hồng    Minh  2004     11     1\n",
            "21   22  1851010138           Trần Kim    Nghị  2002      1    19\n",
            "22   23  1851010144           Trần Kim  Nguyên  1999      4    26\n",
            "23   24  1851010154          Đoàn Minh  Nguyên  2003      1    28\n",
            "24   25  1851050189           Đào Tiến     Nhã  2003      4    18\n",
            "25   26  1851010074        Huỳnh Phước    Phúc  2000     11    21\n",
            "26   27  1851050095            Lê Đình    Phúc  2001      0    16\n",
            "27   28  1851050100         Trịnh Chấn    Quân  1999      6    11\n",
            "28   29  1851010086            Bùi Hải    Sang  2003      1    11\n",
            "29   30  1551010085  Ngũyên Hoàng Minh     Tài  1999      6    13\n",
            "30   31  1851010102                  0   Thiện  2003      3    18\n",
            "31   32  1751010040       Trần Lê Nhật   Thiện  2000      7    20\n",
            "32   33  1651012058        Ngũyên Ngọc   Thông  1999     12    16\n",
            "33   34  1851050061             Võ Phú   Thông  1999      6     3\n",
            "34   35  1851010060    Ngũyên Duy Minh    Toàn  2004      9    25\n",
            "35   36  1851010061           Hồ Trọng    Toàn  2004     13     8\n",
            "36   37  1851010069        Ngũyên Minh   Trung     0      0     0\n",
            "37   38  1851010105         ủ Văn Minh    Tùng  2003      9    31\n",
            "38   39  1851010108          Trần Nhật      Vũ  2001      1     7\n"
          ]
        }
      ]
    },
    {
      "cell_type": "code",
      "source": [
        "df3[['Ngay','Thang','Nam']] = df3['NgayThang'].str.split('/',expand=True)\n",
        "df3 = df3.fillna(0)\n",
        "df3['Ngay'] = df3['Ngay'].astype(int)\n",
        "df3['Thang'] = df3['Thang'].astype(int)\n",
        "df3['Nam'] = df3['Nam'].astype(int)\n",
        "df3 = df3.drop('NgayThang',axis=1)\n",
        "print(df3)\n",
        "#"
      ],
      "metadata": {
        "colab": {
          "base_uri": "https://localhost:8080/"
        },
        "id": "j8wl4NpHsZQ-",
        "outputId": "69c4629f-34d4-4bea-e06b-83f775c1c661"
      },
      "execution_count": 7,
      "outputs": [
        {
          "output_type": "stream",
          "name": "stdout",
          "text": [
            "    STT        MSSV             Ho    Ten  Ngay  Thang   Nam\n",
            "0     1  1851050009     Nguyễn Văn   Bình     1     13  2000\n",
            "1     2  1851010015         Vũ Tấn    Bửu    29     11  2002\n",
            "2     3  1757010034    Vơưng Thành    Chi    14      9  2000\n",
            "3     4  1851050014   Nguyễn Thanh  Cường     4      2  2001\n",
            "4     5  1751010025   Đinh Vũ Hồng   Đăng    19     12  2003\n",
            "..  ...         ...            ...    ...   ...    ...   ...\n",
            "87   88  1451010216         Đỗ Duy   Vinh     5      3  2003\n",
            "88   89  1851050188    Nguyễn Đình     Vũ     9      4  2001\n",
            "89   90  1851050189    Tống Nguyên     Vũ     8      3  2002\n",
            "90   91  1851050190  Đoàn Phan Anh     Vũ     3      7  2003\n",
            "91   92  1851050191     Nguyễn Hữu  Vơưng    15      9  2001\n",
            "\n",
            "[92 rows x 7 columns]\n"
          ]
        }
      ]
    },
    {
      "cell_type": "code",
      "source": [
        "df4[['Ngay','Thang','Nam']] = df4['dd-mm-yyyy'].str.split('-',expand=True)\n",
        "df4 = df4.fillna(0)\n",
        "df4['Ngay'] = df4['Ngay'].astype(int)\n",
        "df4['Thang'] = df4['Thang'].astype(int)\n",
        "df4['Nam'] = df4['Nam'].astype(int)\n",
        "df4 = df4.drop('dd-mm-yyyy',axis=1)\n",
        "df4 = df4.rename(columns={'Họ Lót':'Ho','Tên':'Ten'})\n",
        "print(df4)\n",
        "#"
      ],
      "metadata": {
        "colab": {
          "base_uri": "https://localhost:8080/"
        },
        "id": "Sgvhh1W2tbLX",
        "outputId": "a0e57ea7-0427-4886-a192-fd30d54a96a4"
      },
      "execution_count": 8,
      "outputs": [
        {
          "output_type": "stream",
          "name": "stdout",
          "text": [
            "    STT        MSSV             Ho    Ten  Ngay  Thang   Nam\n",
            "0     1  1651010003    Ngũyên Tiến    Anh     6      4  2000\n",
            "1     2  1851050003       Phạm Văn    Anh    12      8  2002\n",
            "2     3  1854050006  Phan Thị Thúy    Anh    20     14  2005\n",
            "3     4  1851050008     Ngũyên Phi   Bình    23      4  2004\n",
            "4     5  1851050014     Huỳnh Minh  Cường    22     10  1998\n",
            "..  ...         ...            ...    ...   ...    ...   ...\n",
            "75   76  1851050179         Lê Anh      0     3     14  1998\n",
            "76   77  1851050185       Mạnh Thế      0     1      4  2001\n",
            "77   78  1851050188      Trần Đăng     Vũ    26      3  2003\n",
            "78   79  1851050190      Trần Quốc     Vũ    32      5  2003\n",
            "79   80  1851050193   Ngũyên Hòang  Xuyên    16      2  2001\n",
            "\n",
            "[80 rows x 7 columns]\n"
          ]
        }
      ]
    },
    {
      "cell_type": "code",
      "source": [
        "df_combined = pd.concat([df1, df2, df3, df4], ignore_index=True)\n",
        "\n",
        "df_combined['MSSV'] = df_combined['MSSV'].astype(int)\n",
        "df_combined['Ho'] = df_combined['Ho'].astype(str)\n",
        "df_combined['Ten'] = df_combined['Ten'].astype(str)\n",
        "\n",
        "print(df_combined)"
      ],
      "metadata": {
        "colab": {
          "base_uri": "https://localhost:8080/"
        },
        "id": "KX11KIQWt3J5",
        "outputId": "a55a8313-adf0-4bd4-8478-b676128d78b7"
      },
      "execution_count": 9,
      "outputs": [
        {
          "output_type": "stream",
          "name": "stdout",
          "text": [
            "     STT        MSSV               Ho    Ten  Ngay  Thang   Nam\n",
            "0      1  1851050151           Trương     An     5     12  2004\n",
            "1      2  1551010137         Lê Dương    Anh     5     13  2001\n",
            "2      3  1851010147        Trần Thùy    Bảo     8      4  2002\n",
            "3      4  1551010140     Lê Hoàng Huy    Bảo    14      3  2002\n",
            "4      5  1651010156  Nguyễn Thị Hồng   Bình    23     10  2001\n",
            "..   ...         ...              ...    ...   ...    ...   ...\n",
            "274   76  1851050179           Lê Anh      0     3     14  1998\n",
            "275   77  1851050185         Mạnh Thế      0     1      4  2001\n",
            "276   78  1851050188        Trần Đăng     Vũ    26      3  2003\n",
            "277   79  1851050190        Trần Quốc     Vũ    32      5  2003\n",
            "278   80  1851050193     Ngũyên Hòang  Xuyên    16      2  2001\n",
            "\n",
            "[279 rows x 7 columns]\n"
          ]
        }
      ]
    },
    {
      "cell_type": "code",
      "source": [
        "#Thay thế các chữ sau trong các cột tương unugws của DataFrame df_combned\n",
        "df_combined = df_combined.replace({'Ngũyên':'Nguyễn' ,'Hòang':'Hòang','Hùynh':'Huỳnh','ơưng':'ương','Túân':'Tuấn'},regex=True)\n",
        "df_combined"
      ],
      "metadata": {
        "colab": {
          "base_uri": "https://localhost:8080/",
          "height": 424
        },
        "id": "m7aV0TewxIcs",
        "outputId": "c6cf599d-9308-4b3b-90d9-9592fbebf0eb"
      },
      "execution_count": 10,
      "outputs": [
        {
          "output_type": "execute_result",
          "data": {
            "text/plain": [
              "     STT        MSSV               Ho    Ten  Ngay  Thang   Nam\n",
              "0      1  1851050151           Trương     An     5     12  2004\n",
              "1      2  1551010137         Lê Dương    Anh     5     13  2001\n",
              "2      3  1851010147        Trần Thùy    Bảo     8      4  2002\n",
              "3      4  1551010140     Lê Hoàng Huy    Bảo    14      3  2002\n",
              "4      5  1651010156  Nguyễn Thị Hồng   Bình    23     10  2001\n",
              "..   ...         ...              ...    ...   ...    ...   ...\n",
              "274   76  1851050179           Lê Anh      0     3     14  1998\n",
              "275   77  1851050185         Mạnh Thế      0     1      4  2001\n",
              "276   78  1851050188        Trần Đăng     Vũ    26      3  2003\n",
              "277   79  1851050190        Trần Quốc     Vũ    32      5  2003\n",
              "278   80  1851050193    Nguyễn Hòang  Xuyên    16      2  2001\n",
              "\n",
              "[279 rows x 7 columns]"
            ],
            "text/html": [
              "\n",
              "  <div id=\"df-5045221f-2106-45c9-8219-b1096efd234b\" class=\"colab-df-container\">\n",
              "    <div>\n",
              "<style scoped>\n",
              "    .dataframe tbody tr th:only-of-type {\n",
              "        vertical-align: middle;\n",
              "    }\n",
              "\n",
              "    .dataframe tbody tr th {\n",
              "        vertical-align: top;\n",
              "    }\n",
              "\n",
              "    .dataframe thead th {\n",
              "        text-align: right;\n",
              "    }\n",
              "</style>\n",
              "<table border=\"1\" class=\"dataframe\">\n",
              "  <thead>\n",
              "    <tr style=\"text-align: right;\">\n",
              "      <th></th>\n",
              "      <th>STT</th>\n",
              "      <th>MSSV</th>\n",
              "      <th>Ho</th>\n",
              "      <th>Ten</th>\n",
              "      <th>Ngay</th>\n",
              "      <th>Thang</th>\n",
              "      <th>Nam</th>\n",
              "    </tr>\n",
              "  </thead>\n",
              "  <tbody>\n",
              "    <tr>\n",
              "      <th>0</th>\n",
              "      <td>1</td>\n",
              "      <td>1851050151</td>\n",
              "      <td>Trương</td>\n",
              "      <td>An</td>\n",
              "      <td>5</td>\n",
              "      <td>12</td>\n",
              "      <td>2004</td>\n",
              "    </tr>\n",
              "    <tr>\n",
              "      <th>1</th>\n",
              "      <td>2</td>\n",
              "      <td>1551010137</td>\n",
              "      <td>Lê Dương</td>\n",
              "      <td>Anh</td>\n",
              "      <td>5</td>\n",
              "      <td>13</td>\n",
              "      <td>2001</td>\n",
              "    </tr>\n",
              "    <tr>\n",
              "      <th>2</th>\n",
              "      <td>3</td>\n",
              "      <td>1851010147</td>\n",
              "      <td>Trần Thùy</td>\n",
              "      <td>Bảo</td>\n",
              "      <td>8</td>\n",
              "      <td>4</td>\n",
              "      <td>2002</td>\n",
              "    </tr>\n",
              "    <tr>\n",
              "      <th>3</th>\n",
              "      <td>4</td>\n",
              "      <td>1551010140</td>\n",
              "      <td>Lê Hoàng Huy</td>\n",
              "      <td>Bảo</td>\n",
              "      <td>14</td>\n",
              "      <td>3</td>\n",
              "      <td>2002</td>\n",
              "    </tr>\n",
              "    <tr>\n",
              "      <th>4</th>\n",
              "      <td>5</td>\n",
              "      <td>1651010156</td>\n",
              "      <td>Nguyễn Thị Hồng</td>\n",
              "      <td>Bình</td>\n",
              "      <td>23</td>\n",
              "      <td>10</td>\n",
              "      <td>2001</td>\n",
              "    </tr>\n",
              "    <tr>\n",
              "      <th>...</th>\n",
              "      <td>...</td>\n",
              "      <td>...</td>\n",
              "      <td>...</td>\n",
              "      <td>...</td>\n",
              "      <td>...</td>\n",
              "      <td>...</td>\n",
              "      <td>...</td>\n",
              "    </tr>\n",
              "    <tr>\n",
              "      <th>274</th>\n",
              "      <td>76</td>\n",
              "      <td>1851050179</td>\n",
              "      <td>Lê Anh</td>\n",
              "      <td>0</td>\n",
              "      <td>3</td>\n",
              "      <td>14</td>\n",
              "      <td>1998</td>\n",
              "    </tr>\n",
              "    <tr>\n",
              "      <th>275</th>\n",
              "      <td>77</td>\n",
              "      <td>1851050185</td>\n",
              "      <td>Mạnh Thế</td>\n",
              "      <td>0</td>\n",
              "      <td>1</td>\n",
              "      <td>4</td>\n",
              "      <td>2001</td>\n",
              "    </tr>\n",
              "    <tr>\n",
              "      <th>276</th>\n",
              "      <td>78</td>\n",
              "      <td>1851050188</td>\n",
              "      <td>Trần Đăng</td>\n",
              "      <td>Vũ</td>\n",
              "      <td>26</td>\n",
              "      <td>3</td>\n",
              "      <td>2003</td>\n",
              "    </tr>\n",
              "    <tr>\n",
              "      <th>277</th>\n",
              "      <td>79</td>\n",
              "      <td>1851050190</td>\n",
              "      <td>Trần Quốc</td>\n",
              "      <td>Vũ</td>\n",
              "      <td>32</td>\n",
              "      <td>5</td>\n",
              "      <td>2003</td>\n",
              "    </tr>\n",
              "    <tr>\n",
              "      <th>278</th>\n",
              "      <td>80</td>\n",
              "      <td>1851050193</td>\n",
              "      <td>Nguyễn Hòang</td>\n",
              "      <td>Xuyên</td>\n",
              "      <td>16</td>\n",
              "      <td>2</td>\n",
              "      <td>2001</td>\n",
              "    </tr>\n",
              "  </tbody>\n",
              "</table>\n",
              "<p>279 rows × 7 columns</p>\n",
              "</div>\n",
              "    <div class=\"colab-df-buttons\">\n",
              "\n",
              "  <div class=\"colab-df-container\">\n",
              "    <button class=\"colab-df-convert\" onclick=\"convertToInteractive('df-5045221f-2106-45c9-8219-b1096efd234b')\"\n",
              "            title=\"Convert this dataframe to an interactive table.\"\n",
              "            style=\"display:none;\">\n",
              "\n",
              "  <svg xmlns=\"http://www.w3.org/2000/svg\" height=\"24px\" viewBox=\"0 -960 960 960\">\n",
              "    <path d=\"M120-120v-720h720v720H120Zm60-500h600v-160H180v160Zm220 220h160v-160H400v160Zm0 220h160v-160H400v160ZM180-400h160v-160H180v160Zm440 0h160v-160H620v160ZM180-180h160v-160H180v160Zm440 0h160v-160H620v160Z\"/>\n",
              "  </svg>\n",
              "    </button>\n",
              "\n",
              "  <style>\n",
              "    .colab-df-container {\n",
              "      display:flex;\n",
              "      gap: 12px;\n",
              "    }\n",
              "\n",
              "    .colab-df-convert {\n",
              "      background-color: #E8F0FE;\n",
              "      border: none;\n",
              "      border-radius: 50%;\n",
              "      cursor: pointer;\n",
              "      display: none;\n",
              "      fill: #1967D2;\n",
              "      height: 32px;\n",
              "      padding: 0 0 0 0;\n",
              "      width: 32px;\n",
              "    }\n",
              "\n",
              "    .colab-df-convert:hover {\n",
              "      background-color: #E2EBFA;\n",
              "      box-shadow: 0px 1px 2px rgba(60, 64, 67, 0.3), 0px 1px 3px 1px rgba(60, 64, 67, 0.15);\n",
              "      fill: #174EA6;\n",
              "    }\n",
              "\n",
              "    .colab-df-buttons div {\n",
              "      margin-bottom: 4px;\n",
              "    }\n",
              "\n",
              "    [theme=dark] .colab-df-convert {\n",
              "      background-color: #3B4455;\n",
              "      fill: #D2E3FC;\n",
              "    }\n",
              "\n",
              "    [theme=dark] .colab-df-convert:hover {\n",
              "      background-color: #434B5C;\n",
              "      box-shadow: 0px 1px 3px 1px rgba(0, 0, 0, 0.15);\n",
              "      filter: drop-shadow(0px 1px 2px rgba(0, 0, 0, 0.3));\n",
              "      fill: #FFFFFF;\n",
              "    }\n",
              "  </style>\n",
              "\n",
              "    <script>\n",
              "      const buttonEl =\n",
              "        document.querySelector('#df-5045221f-2106-45c9-8219-b1096efd234b button.colab-df-convert');\n",
              "      buttonEl.style.display =\n",
              "        google.colab.kernel.accessAllowed ? 'block' : 'none';\n",
              "\n",
              "      async function convertToInteractive(key) {\n",
              "        const element = document.querySelector('#df-5045221f-2106-45c9-8219-b1096efd234b');\n",
              "        const dataTable =\n",
              "          await google.colab.kernel.invokeFunction('convertToInteractive',\n",
              "                                                    [key], {});\n",
              "        if (!dataTable) return;\n",
              "\n",
              "        const docLinkHtml = 'Like what you see? Visit the ' +\n",
              "          '<a target=\"_blank\" href=https://colab.research.google.com/notebooks/data_table.ipynb>data table notebook</a>'\n",
              "          + ' to learn more about interactive tables.';\n",
              "        element.innerHTML = '';\n",
              "        dataTable['output_type'] = 'display_data';\n",
              "        await google.colab.output.renderOutput(dataTable, element);\n",
              "        const docLink = document.createElement('div');\n",
              "        docLink.innerHTML = docLinkHtml;\n",
              "        element.appendChild(docLink);\n",
              "      }\n",
              "    </script>\n",
              "  </div>\n",
              "\n",
              "\n",
              "<div id=\"df-422be9c7-cfc6-4a9a-8bdb-bdfb40601352\">\n",
              "  <button class=\"colab-df-quickchart\" onclick=\"quickchart('df-422be9c7-cfc6-4a9a-8bdb-bdfb40601352')\"\n",
              "            title=\"Suggest charts\"\n",
              "            style=\"display:none;\">\n",
              "\n",
              "<svg xmlns=\"http://www.w3.org/2000/svg\" height=\"24px\"viewBox=\"0 0 24 24\"\n",
              "     width=\"24px\">\n",
              "    <g>\n",
              "        <path d=\"M19 3H5c-1.1 0-2 .9-2 2v14c0 1.1.9 2 2 2h14c1.1 0 2-.9 2-2V5c0-1.1-.9-2-2-2zM9 17H7v-7h2v7zm4 0h-2V7h2v10zm4 0h-2v-4h2v4z\"/>\n",
              "    </g>\n",
              "</svg>\n",
              "  </button>\n",
              "\n",
              "<style>\n",
              "  .colab-df-quickchart {\n",
              "      --bg-color: #E8F0FE;\n",
              "      --fill-color: #1967D2;\n",
              "      --hover-bg-color: #E2EBFA;\n",
              "      --hover-fill-color: #174EA6;\n",
              "      --disabled-fill-color: #AAA;\n",
              "      --disabled-bg-color: #DDD;\n",
              "  }\n",
              "\n",
              "  [theme=dark] .colab-df-quickchart {\n",
              "      --bg-color: #3B4455;\n",
              "      --fill-color: #D2E3FC;\n",
              "      --hover-bg-color: #434B5C;\n",
              "      --hover-fill-color: #FFFFFF;\n",
              "      --disabled-bg-color: #3B4455;\n",
              "      --disabled-fill-color: #666;\n",
              "  }\n",
              "\n",
              "  .colab-df-quickchart {\n",
              "    background-color: var(--bg-color);\n",
              "    border: none;\n",
              "    border-radius: 50%;\n",
              "    cursor: pointer;\n",
              "    display: none;\n",
              "    fill: var(--fill-color);\n",
              "    height: 32px;\n",
              "    padding: 0;\n",
              "    width: 32px;\n",
              "  }\n",
              "\n",
              "  .colab-df-quickchart:hover {\n",
              "    background-color: var(--hover-bg-color);\n",
              "    box-shadow: 0 1px 2px rgba(60, 64, 67, 0.3), 0 1px 3px 1px rgba(60, 64, 67, 0.15);\n",
              "    fill: var(--button-hover-fill-color);\n",
              "  }\n",
              "\n",
              "  .colab-df-quickchart-complete:disabled,\n",
              "  .colab-df-quickchart-complete:disabled:hover {\n",
              "    background-color: var(--disabled-bg-color);\n",
              "    fill: var(--disabled-fill-color);\n",
              "    box-shadow: none;\n",
              "  }\n",
              "\n",
              "  .colab-df-spinner {\n",
              "    border: 2px solid var(--fill-color);\n",
              "    border-color: transparent;\n",
              "    border-bottom-color: var(--fill-color);\n",
              "    animation:\n",
              "      spin 1s steps(1) infinite;\n",
              "  }\n",
              "\n",
              "  @keyframes spin {\n",
              "    0% {\n",
              "      border-color: transparent;\n",
              "      border-bottom-color: var(--fill-color);\n",
              "      border-left-color: var(--fill-color);\n",
              "    }\n",
              "    20% {\n",
              "      border-color: transparent;\n",
              "      border-left-color: var(--fill-color);\n",
              "      border-top-color: var(--fill-color);\n",
              "    }\n",
              "    30% {\n",
              "      border-color: transparent;\n",
              "      border-left-color: var(--fill-color);\n",
              "      border-top-color: var(--fill-color);\n",
              "      border-right-color: var(--fill-color);\n",
              "    }\n",
              "    40% {\n",
              "      border-color: transparent;\n",
              "      border-right-color: var(--fill-color);\n",
              "      border-top-color: var(--fill-color);\n",
              "    }\n",
              "    60% {\n",
              "      border-color: transparent;\n",
              "      border-right-color: var(--fill-color);\n",
              "    }\n",
              "    80% {\n",
              "      border-color: transparent;\n",
              "      border-right-color: var(--fill-color);\n",
              "      border-bottom-color: var(--fill-color);\n",
              "    }\n",
              "    90% {\n",
              "      border-color: transparent;\n",
              "      border-bottom-color: var(--fill-color);\n",
              "    }\n",
              "  }\n",
              "</style>\n",
              "\n",
              "  <script>\n",
              "    async function quickchart(key) {\n",
              "      const quickchartButtonEl =\n",
              "        document.querySelector('#' + key + ' button');\n",
              "      quickchartButtonEl.disabled = true;  // To prevent multiple clicks.\n",
              "      quickchartButtonEl.classList.add('colab-df-spinner');\n",
              "      try {\n",
              "        const charts = await google.colab.kernel.invokeFunction(\n",
              "            'suggestCharts', [key], {});\n",
              "      } catch (error) {\n",
              "        console.error('Error during call to suggestCharts:', error);\n",
              "      }\n",
              "      quickchartButtonEl.classList.remove('colab-df-spinner');\n",
              "      quickchartButtonEl.classList.add('colab-df-quickchart-complete');\n",
              "    }\n",
              "    (() => {\n",
              "      let quickchartButtonEl =\n",
              "        document.querySelector('#df-422be9c7-cfc6-4a9a-8bdb-bdfb40601352 button');\n",
              "      quickchartButtonEl.style.display =\n",
              "        google.colab.kernel.accessAllowed ? 'block' : 'none';\n",
              "    })();\n",
              "  </script>\n",
              "</div>\n",
              "\n",
              "  <div id=\"id_fdcb3cf5-ae64-425e-8b62-0bedd3107326\">\n",
              "    <style>\n",
              "      .colab-df-generate {\n",
              "        background-color: #E8F0FE;\n",
              "        border: none;\n",
              "        border-radius: 50%;\n",
              "        cursor: pointer;\n",
              "        display: none;\n",
              "        fill: #1967D2;\n",
              "        height: 32px;\n",
              "        padding: 0 0 0 0;\n",
              "        width: 32px;\n",
              "      }\n",
              "\n",
              "      .colab-df-generate:hover {\n",
              "        background-color: #E2EBFA;\n",
              "        box-shadow: 0px 1px 2px rgba(60, 64, 67, 0.3), 0px 1px 3px 1px rgba(60, 64, 67, 0.15);\n",
              "        fill: #174EA6;\n",
              "      }\n",
              "\n",
              "      [theme=dark] .colab-df-generate {\n",
              "        background-color: #3B4455;\n",
              "        fill: #D2E3FC;\n",
              "      }\n",
              "\n",
              "      [theme=dark] .colab-df-generate:hover {\n",
              "        background-color: #434B5C;\n",
              "        box-shadow: 0px 1px 3px 1px rgba(0, 0, 0, 0.15);\n",
              "        filter: drop-shadow(0px 1px 2px rgba(0, 0, 0, 0.3));\n",
              "        fill: #FFFFFF;\n",
              "      }\n",
              "    </style>\n",
              "    <button class=\"colab-df-generate\" onclick=\"generateWithVariable('df_combined')\"\n",
              "            title=\"Generate code using this dataframe.\"\n",
              "            style=\"display:none;\">\n",
              "\n",
              "  <svg xmlns=\"http://www.w3.org/2000/svg\" height=\"24px\"viewBox=\"0 0 24 24\"\n",
              "       width=\"24px\">\n",
              "    <path d=\"M7,19H8.4L18.45,9,17,7.55,7,17.6ZM5,21V16.75L18.45,3.32a2,2,0,0,1,2.83,0l1.4,1.43a1.91,1.91,0,0,1,.58,1.4,1.91,1.91,0,0,1-.58,1.4L9.25,21ZM18.45,9,17,7.55Zm-12,3A5.31,5.31,0,0,0,4.9,8.1,5.31,5.31,0,0,0,1,6.5,5.31,5.31,0,0,0,4.9,4.9,5.31,5.31,0,0,0,6.5,1,5.31,5.31,0,0,0,8.1,4.9,5.31,5.31,0,0,0,12,6.5,5.46,5.46,0,0,0,6.5,12Z\"/>\n",
              "  </svg>\n",
              "    </button>\n",
              "    <script>\n",
              "      (() => {\n",
              "      const buttonEl =\n",
              "        document.querySelector('#id_fdcb3cf5-ae64-425e-8b62-0bedd3107326 button.colab-df-generate');\n",
              "      buttonEl.style.display =\n",
              "        google.colab.kernel.accessAllowed ? 'block' : 'none';\n",
              "\n",
              "      buttonEl.onclick = () => {\n",
              "        google.colab.notebook.generateWithVariable('df_combined');\n",
              "      }\n",
              "      })();\n",
              "    </script>\n",
              "  </div>\n",
              "\n",
              "    </div>\n",
              "  </div>\n"
            ],
            "application/vnd.google.colaboratory.intrinsic+json": {
              "type": "dataframe",
              "variable_name": "df_combined",
              "summary": "{\n  \"name\": \"df_combined\",\n  \"rows\": 279,\n  \"fields\": [\n    {\n      \"column\": \"STT\",\n      \"properties\": {\n        \"dtype\": \"number\",\n        \"std\": 23,\n        \"min\": 1,\n        \"max\": 92,\n        \"num_unique_values\": 92,\n        \"samples\": [\n          41,\n          23,\n          56\n        ],\n        \"semantic_type\": \"\",\n        \"description\": \"\"\n      }\n    },\n    {\n      \"column\": \"MSSV\",\n      \"properties\": {\n        \"dtype\": \"number\",\n        \"std\": 109863231,\n        \"min\": 1351010056,\n        \"max\": 1855010124,\n        \"num_unique_values\": 225,\n        \"samples\": [\n          1751012013,\n          1851010021,\n          1351010059\n        ],\n        \"semantic_type\": \"\",\n        \"description\": \"\"\n      }\n    },\n    {\n      \"column\": \"Ho\",\n      \"properties\": {\n        \"dtype\": \"string\",\n        \"num_unique_values\": 216,\n        \"samples\": [\n          \"L\\u00ea H\\u1ea3i\",\n          \"L\\u00ea Anh\",\n          \"Nguy\\u1ec5n L\\u01b0u Ph\\u01b0\\u01a1ng\"\n        ],\n        \"semantic_type\": \"\",\n        \"description\": \"\"\n      }\n    },\n    {\n      \"column\": \"Ten\",\n      \"properties\": {\n        \"dtype\": \"category\",\n        \"num_unique_values\": 126,\n        \"samples\": [\n          \"H\\u1ea3o\",\n          \"Kh\\u00f4i\",\n          \"Ph\\u01b0\\u01a1ng\"\n        ],\n        \"semantic_type\": \"\",\n        \"description\": \"\"\n      }\n    },\n    {\n      \"column\": \"Ngay\",\n      \"properties\": {\n        \"dtype\": \"number\",\n        \"std\": 9,\n        \"min\": 0,\n        \"max\": 32,\n        \"num_unique_values\": 33,\n        \"samples\": [\n          19,\n          25,\n          22\n        ],\n        \"semantic_type\": \"\",\n        \"description\": \"\"\n      }\n    },\n    {\n      \"column\": \"Thang\",\n      \"properties\": {\n        \"dtype\": \"number\",\n        \"std\": 4,\n        \"min\": 0,\n        \"max\": 14,\n        \"num_unique_values\": 15,\n        \"samples\": [\n          5,\n          9,\n          12\n        ],\n        \"semantic_type\": \"\",\n        \"description\": \"\"\n      }\n    },\n    {\n      \"column\": \"Nam\",\n      \"properties\": {\n        \"dtype\": \"number\",\n        \"std\": 266,\n        \"min\": 0,\n        \"max\": 2005,\n        \"num_unique_values\": 9,\n        \"samples\": [\n          2005,\n          2001,\n          0\n        ],\n        \"semantic_type\": \"\",\n        \"description\": \"\"\n      }\n    }\n  ]\n}"
            }
          },
          "metadata": {},
          "execution_count": 10
        }
      ]
    },
    {
      "cell_type": "markdown",
      "source": [],
      "metadata": {
        "id": "6-xJNKpKkZyD"
      }
    },
    {
      "cell_type": "code",
      "source": [
        "#Xóa cột STT\n",
        "df_combined = df_combined.drop('STT',axis=1)\n",
        "df_invalid =df_combined.copy()\n",
        "#Hàm kiểm tra tính hợp lệ của ngày tháng\n",
        "def is_valid_date(row):\n",
        "  try:\n",
        "    day = int(row['Ngay'])\n",
        "    month = int(row['Thang'])\n",
        "    year = int(row['Nam'])\n",
        "    pd.Timestamp(year=year, month=month, day=day)\n",
        "    return True\n",
        "  except :\n",
        "    return False\n",
        "#Hàm kiểm tra tính hợp lệ của cột MSSV, họ, tên\n",
        "def is_valid_data(row):\n",
        "  if(row['MSSV']=='0' or row['Ho']== '0' or row['Ten']=='0'):\n",
        "    return False\n",
        "  else:\n",
        "    return True\n",
        "#Áp dụng hàm kiểm tra tính hợp lệ của từng dòng dữ liệu\n",
        "mask = df_combined.apply(lambda row: is_valid_date(row) and is_valid_data(row), axis=1)\n",
        "df_valid = df_combined[mask]\n",
        "df_invalid = df_combined[~mask]\n",
        "#Chuyển đổi kiểu dữ liệu\n",
        "df_valid['Ngay'] = df_valid['Ngay'].astype(int)\n",
        "df_valid['Thang'] = df_valid['Thang'].astype(int)\n",
        "df_valid['Nam'] = df_valid['Nam'].astype(int)"
      ],
      "metadata": {
        "colab": {
          "base_uri": "https://localhost:8080/"
        },
        "id": "ZjHpIUT6z1le",
        "outputId": "6fb16b37-018f-4b47-f67d-54062aa8f22a"
      },
      "execution_count": 11,
      "outputs": [
        {
          "output_type": "stream",
          "name": "stderr",
          "text": [
            "<ipython-input-11-83cd2267d53e>:25: SettingWithCopyWarning: \n",
            "A value is trying to be set on a copy of a slice from a DataFrame.\n",
            "Try using .loc[row_indexer,col_indexer] = value instead\n",
            "\n",
            "See the caveats in the documentation: https://pandas.pydata.org/pandas-docs/stable/user_guide/indexing.html#returning-a-view-versus-a-copy\n",
            "  df_valid['Ngay'] = df_valid['Ngay'].astype(int)\n",
            "<ipython-input-11-83cd2267d53e>:26: SettingWithCopyWarning: \n",
            "A value is trying to be set on a copy of a slice from a DataFrame.\n",
            "Try using .loc[row_indexer,col_indexer] = value instead\n",
            "\n",
            "See the caveats in the documentation: https://pandas.pydata.org/pandas-docs/stable/user_guide/indexing.html#returning-a-view-versus-a-copy\n",
            "  df_valid['Thang'] = df_valid['Thang'].astype(int)\n",
            "<ipython-input-11-83cd2267d53e>:27: SettingWithCopyWarning: \n",
            "A value is trying to be set on a copy of a slice from a DataFrame.\n",
            "Try using .loc[row_indexer,col_indexer] = value instead\n",
            "\n",
            "See the caveats in the documentation: https://pandas.pydata.org/pandas-docs/stable/user_guide/indexing.html#returning-a-view-versus-a-copy\n",
            "  df_valid['Nam'] = df_valid['Nam'].astype(int)\n"
          ]
        }
      ]
    },
    {
      "cell_type": "code",
      "source": [
        "#Lưu DataFrame df_valid thành file Excel\n",
        "df_valid.to_excel('df_valid.xlsx', index=False)\n",
        "#Lưu DataFrame df_invalid thành file Excel\n",
        "df_invalid.to_excel('df_invalid.xlsx', index=False)\n",
        "#Về biểu đồ\n",
        "df_valid['Nam'].value_counts().plot(kind='bar')"
      ],
      "metadata": {
        "colab": {
          "base_uri": "https://localhost:8080/",
          "height": 488
        },
        "id": "9BQKipmV1f-6",
        "outputId": "5535f047-2e49-4cb2-e94c-d0b61377a7f0"
      },
      "execution_count": 12,
      "outputs": [
        {
          "output_type": "execute_result",
          "data": {
            "text/plain": [
              "<Axes: xlabel='Nam'>"
            ]
          },
          "metadata": {},
          "execution_count": 12
        },
        {
          "output_type": "display_data",
          "data": {
            "text/plain": [
              "<Figure size 640x480 with 1 Axes>"
            ],
            "image/png": "[encoded data removed]"
          },
          "metadata": {}
        }
      ]
    },
    {
      "cell_type": "markdown",
      "source": [
        "**Câu 4**"
      ],
      "metadata": {
        "id": "i8r5Y4nX7Olv"
      }
    },
    {
      "cell_type": "code",
      "source": [],
      "metadata": {
        "id": "ZsATgQh47Qrt"
      },
      "execution_count": null,
      "outputs": []
    },
    {
      "source": [
        "#Bước 1: Chuyển đổi cột 'Ngày', 'Thang', 'Năm' sang kiểu dữ liệu ngày tháng datetime\n",
        "df_valid['NgaySinh'] = pd.to_datetime(df_valid[['Nam', 'Thang', 'Ngay']].astype(str).agg('-'.join, axis=1), format='%Y-%m-%d')"
      ],
      "cell_type": "code",
      "metadata": {
        "colab": {
          "base_uri": "https://localhost:8080/"
        },
        "id": "zWzYU7a57uGQ",
        "outputId": "4a89652e-566a-45fe-e542-9d216c2e2c16"
      },
      "execution_count": 13,
      "outputs": [
        {
          "output_type": "stream",
          "name": "stderr",
          "text": [
            "<ipython-input-13-09596dac83c0>:2: SettingWithCopyWarning: \n",
            "A value is trying to be set on a copy of a slice from a DataFrame.\n",
            "Try using .loc[row_indexer,col_indexer] = value instead\n",
            "\n",
            "See the caveats in the documentation: https://pandas.pydata.org/pandas-docs/stable/user_guide/indexing.html#returning-a-view-versus-a-copy\n",
            "  df_valid['NgaySinh'] = pd.to_datetime(df_valid[['Nam', 'Thang', 'Ngay']].astype(str).agg('-'.join, axis=1), format='%Y-%m-%d')\n"
          ]
        }
      ]
    },
    {
      "source": [
        "#oldest_person = df_valid.loc[df_valid['NgaySinh'].idxmin()]\n",
        "youngest_person = df_valid.loc[df_valid['NgaySinh'].idxmax()]\n",
        "oldest_person = df_valid.loc[df_valid['NgaySinh'].idxmin()]\n",
        "youngest_person = df_valid.loc[df_valid['NgaySinh'].idxmax()]\n",
        "#In thông tin\n",
        "print(\"Thông tin người cao tuổi nhất:\")\n",
        "print(oldest_person)\n",
        "\n",
        "print(\"\\nThông tin người trẻ tuổi nhất:\")\n",
        "print(youngest_person)"
      ],
      "cell_type": "code",
      "metadata": {
        "colab": {
          "base_uri": "https://localhost:8080/"
        },
        "id": "-WdEPdn77yS6",
        "outputId": "035b21e9-3ef9-48fc-e085-4ea208570035"
      },
      "execution_count": 14,
      "outputs": [
        {
          "output_type": "stream",
          "name": "stdout",
          "text": [
            "Thông tin người cao tuổi nhất:\n",
            "MSSV                 1851010100\n",
            "Ho                     Đặng Đức\n",
            "Ten                         Phú\n",
            "Ngay                         26\n",
            "Thang                         4\n",
            "Nam                        1998\n",
            "NgaySinh    1998-04-26 00:00:00\n",
            "Name: 240, dtype: object\n",
            "\n",
            "Thông tin người trẻ tuổi nhất:\n",
            "MSSV                 1851050173\n",
            "Ho                 Nguyễn Công\n",
            "Ten                       Tuyết\n",
            "Ngay                         15\n",
            "Thang                        11\n",
            "Nam                        2005\n",
            "NgaySinh    2005-11-15 00:00:00\n",
            "Name: 272, dtype: object\n"
          ]
        }
      ]
    },
    {
      "cell_type": "code",
      "source": [],
      "metadata": {
        "id": "LakXBn5e8HdO"
      },
      "execution_count": null,
      "outputs": []
    },
    {
      "source": [],
      "cell_type": "code",
      "metadata": {
        "colab": {
          "base_uri": "https://localhost:8080/",
          "height": 356
        },
        "id": "_LQ2viM28Tq1",
        "outputId": "2071f1ac-231c-456f-9ba5-bf51ae8b5c4f"
      },
      "execution_count": 15,
      "outputs": [
        {
          "output_type": "error",
          "ename": "ValueError",
          "evalue": "Cannot convert from timedelta64[ns] to timedelta64[Y]. Supported resolutions are 's', 'ms', 'us', 'ns'",
          "traceback": [
            "\u001b[0;31m---------------------------------------------------------------------------\u001b[0m",
            "\u001b[0;31mValueError\u001b[0m                                Traceback (most recent call last)",
            "\u001b[0;32m<ipython-input-15-ad0222f777f7>\u001b[0m in \u001b[0;36m<cell line: 3>\u001b[0;34m()\u001b[0m\n\u001b[1;32m      1\u001b[0m \u001b[0;31m#Bước 2: Tính tuổi của từng người\u001b[0m\u001b[0;34m\u001b[0m\u001b[0;34m\u001b[0m\u001b[0m\n\u001b[1;32m      2\u001b[0m \u001b[0mnow\u001b[0m \u001b[0;34m=\u001b[0m \u001b[0mpd\u001b[0m\u001b[0;34m.\u001b[0m\u001b[0mTimestamp\u001b[0m\u001b[0;34m.\u001b[0m\u001b[0mnow\u001b[0m\u001b[0;34m(\u001b[0m\u001b[0;34m)\u001b[0m\u001b[0;34m\u001b[0m\u001b[0;34m\u001b[0m\u001b[0m\n\u001b[0;32m----> 3\u001b[0;31m \u001b[0mdf_valid\u001b[0m\u001b[0;34m[\u001b[0m\u001b[0;34m'Tuoi'\u001b[0m\u001b[0;34m]\u001b[0m \u001b[0;34m=\u001b[0m \u001b[0;34m(\u001b[0m\u001b[0mnow\u001b[0m \u001b[0;34m-\u001b[0m \u001b[0mdf_valid\u001b[0m\u001b[0;34m[\u001b[0m\u001b[0;34m'NgaySinh'\u001b[0m\u001b[0;34m]\u001b[0m\u001b[0;34m)\u001b[0m\u001b[0;34m.\u001b[0m\u001b[0mastype\u001b[0m\u001b[0;34m(\u001b[0m\u001b[0;34m'<m8[Y]'\u001b[0m\u001b[0;34m)\u001b[0m\u001b[0;34m\u001b[0m\u001b[0;34m\u001b[0m\u001b[0m\n\u001b[0m\u001b[1;32m      4\u001b[0m \u001b[0;31m#Bước 3: Tính độ tuổi trung bình\u001b[0m\u001b[0;34m\u001b[0m\u001b[0;34m\u001b[0m\u001b[0m\n\u001b[1;32m      5\u001b[0m \u001b[0maverage_age\u001b[0m \u001b[0;34m=\u001b[0m \u001b[0mdf_valid\u001b[0m\u001b[0;34m[\u001b[0m\u001b[0;34m'Tuoi'\u001b[0m\u001b[0;34m]\u001b[0m\u001b[0;34m.\u001b[0m\u001b[0mmean\u001b[0m\u001b[0;34m(\u001b[0m\u001b[0;34m)\u001b[0m\u001b[0;34m\u001b[0m\u001b[0;34m\u001b[0m\u001b[0m\n",
            "\u001b[0;32m/usr/local/lib/python3.10/dist-packages/pandas/core/generic.py\u001b[0m in \u001b[0;36mastype\u001b[0;34m(self, dtype, copy, errors)\u001b[0m\n\u001b[1;32m   6641\u001b[0m         \u001b[0;32melse\u001b[0m\u001b[0;34m:\u001b[0m\u001b[0;34m\u001b[0m\u001b[0;34m\u001b[0m\u001b[0m\n\u001b[1;32m   6642\u001b[0m             \u001b[0;31m# else, only a single dtype is given\u001b[0m\u001b[0;34m\u001b[0m\u001b[0;34m\u001b[0m\u001b[0m\n\u001b[0;32m-> 6643\u001b[0;31m             \u001b[0mnew_data\u001b[0m \u001b[0;34m=\u001b[0m \u001b[0mself\u001b[0m\u001b[0;34m.\u001b[0m\u001b[0m_mgr\u001b[0m\u001b[0;34m.\u001b[0m\u001b[0mastype\u001b[0m\u001b[0;34m(\u001b[0m\u001b[0mdtype\u001b[0m\u001b[0;34m=\u001b[0m\u001b[0mdtype\u001b[0m\u001b[0;34m,\u001b[0m \u001b[0mcopy\u001b[0m\u001b[0;34m=\u001b[0m\u001b[0mcopy\u001b[0m\u001b[0;34m,\u001b[0m \u001b[0merrors\u001b[0m\u001b[0;34m=\u001b[0m\u001b[0merrors\u001b[0m\u001b[0;34m)\u001b[0m\u001b[0;34m\u001b[0m\u001b[0;34m\u001b[0m\u001b[0m\n\u001b[0m\u001b[1;32m   6644\u001b[0m             \u001b[0mres\u001b[0m \u001b[0;34m=\u001b[0m \u001b[0mself\u001b[0m\u001b[0;34m.\u001b[0m\u001b[0m_constructor_from_mgr\u001b[0m\u001b[0;34m(\u001b[0m\u001b[0mnew_data\u001b[0m\u001b[0;34m,\u001b[0m \u001b[0maxes\u001b[0m\u001b[0;34m=\u001b[0m\u001b[0mnew_data\u001b[0m\u001b[0;34m.\u001b[0m\u001b[0maxes\u001b[0m\u001b[0;34m)\u001b[0m\u001b[0;34m\u001b[0m\u001b[0;34m\u001b[0m\u001b[0m\n\u001b[1;32m   6645\u001b[0m             \u001b[0;32mreturn\u001b[0m \u001b[0mres\u001b[0m\u001b[0;34m.\u001b[0m\u001b[0m__finalize__\u001b[0m\u001b[0;34m(\u001b[0m\u001b[0mself\u001b[0m\u001b[0;34m,\u001b[0m \u001b[0mmethod\u001b[0m\u001b[0;34m=\u001b[0m\u001b[0;34m\"astype\"\u001b[0m\u001b[0;34m)\u001b[0m\u001b[0;34m\u001b[0m\u001b[0;34m\u001b[0m\u001b[0m\n",
            "\u001b[0;32m/usr/local/lib/python3.10/dist-packages/pandas/core/internals/managers.py\u001b[0m in \u001b[0;36mastype\u001b[0;34m(self, dtype, copy, errors)\u001b[0m\n\u001b[1;32m    428\u001b[0m             \u001b[0mcopy\u001b[0m \u001b[0;34m=\u001b[0m \u001b[0;32mFalse\u001b[0m\u001b[0;34m\u001b[0m\u001b[0;34m\u001b[0m\u001b[0m\n\u001b[1;32m    429\u001b[0m \u001b[0;34m\u001b[0m\u001b[0m\n\u001b[0;32m--> 430\u001b[0;31m         return self.apply(\n\u001b[0m\u001b[1;32m    431\u001b[0m             \u001b[0;34m\"astype\"\u001b[0m\u001b[0;34m,\u001b[0m\u001b[0;34m\u001b[0m\u001b[0;34m\u001b[0m\u001b[0m\n\u001b[1;32m    432\u001b[0m             \u001b[0mdtype\u001b[0m\u001b[0;34m=\u001b[0m\u001b[0mdtype\u001b[0m\u001b[0;34m,\u001b[0m\u001b[0;34m\u001b[0m\u001b[0;34m\u001b[0m\u001b[0m\n",
            "\u001b[0;32m/usr/local/lib/python3.10/dist-packages/pandas/core/internals/managers.py\u001b[0m in \u001b[0;36mapply\u001b[0;34m(self, f, align_keys, **kwargs)\u001b[0m\n\u001b[1;32m    361\u001b[0m                 \u001b[0mapplied\u001b[0m \u001b[0;34m=\u001b[0m \u001b[0mb\u001b[0m\u001b[0;34m.\u001b[0m\u001b[0mapply\u001b[0m\u001b[0;34m(\u001b[0m\u001b[0mf\u001b[0m\u001b[0;34m,\u001b[0m \u001b[0;34m**\u001b[0m\u001b[0mkwargs\u001b[0m\u001b[0;34m)\u001b[0m\u001b[0;34m\u001b[0m\u001b[0;34m\u001b[0m\u001b[0m\n\u001b[1;32m    362\u001b[0m             \u001b[0;32melse\u001b[0m\u001b[0;34m:\u001b[0m\u001b[0;34m\u001b[0m\u001b[0;34m\u001b[0m\u001b[0m\n\u001b[0;32m--> 363\u001b[0;31m                 \u001b[0mapplied\u001b[0m \u001b[0;34m=\u001b[0m \u001b[0mgetattr\u001b[0m\u001b[0;34m(\u001b[0m\u001b[0mb\u001b[0m\u001b[0;34m,\u001b[0m \u001b[0mf\u001b[0m\u001b[0;34m)\u001b[0m\u001b[0;34m(\u001b[0m\u001b[0;34m**\u001b[0m\u001b[0mkwargs\u001b[0m\u001b[0;34m)\u001b[0m\u001b[0;34m\u001b[0m\u001b[0;34m\u001b[0m\u001b[0m\n\u001b[0m\u001b[1;32m    364\u001b[0m             \u001b[0mresult_blocks\u001b[0m \u001b[0;34m=\u001b[0m \u001b[0mextend_blocks\u001b[0m\u001b[0;34m(\u001b[0m\u001b[0mapplied\u001b[0m\u001b[0;34m,\u001b[0m \u001b[0mresult_blocks\u001b[0m\u001b[0;34m)\u001b[0m\u001b[0;34m\u001b[0m\u001b[0;34m\u001b[0m\u001b[0m\n\u001b[1;32m    365\u001b[0m \u001b[0;34m\u001b[0m\u001b[0m\n",
            "\u001b[0;32m/usr/local/lib/python3.10/dist-packages/pandas/core/internals/blocks.py\u001b[0m in \u001b[0;36mastype\u001b[0;34m(self, dtype, copy, errors, using_cow, squeeze)\u001b[0m\n\u001b[1;32m    756\u001b[0m             \u001b[0mvalues\u001b[0m \u001b[0;34m=\u001b[0m \u001b[0mvalues\u001b[0m\u001b[0;34m[\u001b[0m\u001b[0;36m0\u001b[0m\u001b[0;34m,\u001b[0m \u001b[0;34m:\u001b[0m\u001b[0;34m]\u001b[0m  \u001b[0;31m# type: ignore[call-overload]\u001b[0m\u001b[0;34m\u001b[0m\u001b[0;34m\u001b[0m\u001b[0m\n\u001b[1;32m    757\u001b[0m \u001b[0;34m\u001b[0m\u001b[0m\n\u001b[0;32m--> 758\u001b[0;31m         \u001b[0mnew_values\u001b[0m \u001b[0;34m=\u001b[0m \u001b[0mastype_array_safe\u001b[0m\u001b[0;34m(\u001b[0m\u001b[0mvalues\u001b[0m\u001b[0;34m,\u001b[0m \u001b[0mdtype\u001b[0m\u001b[0;34m,\u001b[0m \u001b[0mcopy\u001b[0m\u001b[0;34m=\u001b[0m\u001b[0mcopy\u001b[0m\u001b[0;34m,\u001b[0m \u001b[0merrors\u001b[0m\u001b[0;34m=\u001b[0m\u001b[0merrors\u001b[0m\u001b[0;34m)\u001b[0m\u001b[0;34m\u001b[0m\u001b[0;34m\u001b[0m\u001b[0m\n\u001b[0m\u001b[1;32m    759\u001b[0m \u001b[0;34m\u001b[0m\u001b[0m\n\u001b[1;32m    760\u001b[0m         \u001b[0mnew_values\u001b[0m \u001b[0;34m=\u001b[0m \u001b[0mmaybe_coerce_values\u001b[0m\u001b[0;34m(\u001b[0m\u001b[0mnew_values\u001b[0m\u001b[0;34m)\u001b[0m\u001b[0;34m\u001b[0m\u001b[0;34m\u001b[0m\u001b[0m\n",
            "\u001b[0;32m/usr/local/lib/python3.10/dist-packages/pandas/core/dtypes/astype.py\u001b[0m in \u001b[0;36mastype_array_safe\u001b[0;34m(values, dtype, copy, errors)\u001b[0m\n\u001b[1;32m    235\u001b[0m \u001b[0;34m\u001b[0m\u001b[0m\n\u001b[1;32m    236\u001b[0m     \u001b[0;32mtry\u001b[0m\u001b[0;34m:\u001b[0m\u001b[0;34m\u001b[0m\u001b[0;34m\u001b[0m\u001b[0m\n\u001b[0;32m--> 237\u001b[0;31m         \u001b[0mnew_values\u001b[0m \u001b[0;34m=\u001b[0m \u001b[0mastype_array\u001b[0m\u001b[0;34m(\u001b[0m\u001b[0mvalues\u001b[0m\u001b[0;34m,\u001b[0m \u001b[0mdtype\u001b[0m\u001b[0;34m,\u001b[0m \u001b[0mcopy\u001b[0m\u001b[0;34m=\u001b[0m\u001b[0mcopy\u001b[0m\u001b[0;34m)\u001b[0m\u001b[0;34m\u001b[0m\u001b[0;34m\u001b[0m\u001b[0m\n\u001b[0m\u001b[1;32m    238\u001b[0m     \u001b[0;32mexcept\u001b[0m \u001b[0;34m(\u001b[0m\u001b[0mValueError\u001b[0m\u001b[0;34m,\u001b[0m \u001b[0mTypeError\u001b[0m\u001b[0;34m)\u001b[0m\u001b[0;34m:\u001b[0m\u001b[0;34m\u001b[0m\u001b[0;34m\u001b[0m\u001b[0m\n\u001b[1;32m    239\u001b[0m         \u001b[0;31m# e.g. _astype_nansafe can fail on object-dtype of strings\u001b[0m\u001b[0;34m\u001b[0m\u001b[0;34m\u001b[0m\u001b[0m\n",
            "\u001b[0;32m/usr/local/lib/python3.10/dist-packages/pandas/core/dtypes/astype.py\u001b[0m in \u001b[0;36mastype_array\u001b[0;34m(values, dtype, copy)\u001b[0m\n\u001b[1;32m    177\u001b[0m     \u001b[0;32mif\u001b[0m \u001b[0;32mnot\u001b[0m \u001b[0misinstance\u001b[0m\u001b[0;34m(\u001b[0m\u001b[0mvalues\u001b[0m\u001b[0;34m,\u001b[0m \u001b[0mnp\u001b[0m\u001b[0;34m.\u001b[0m\u001b[0mndarray\u001b[0m\u001b[0;34m)\u001b[0m\u001b[0;34m:\u001b[0m\u001b[0;34m\u001b[0m\u001b[0;34m\u001b[0m\u001b[0m\n\u001b[1;32m    178\u001b[0m         \u001b[0;31m# i.e. ExtensionArray\u001b[0m\u001b[0;34m\u001b[0m\u001b[0;34m\u001b[0m\u001b[0m\n\u001b[0;32m--> 179\u001b[0;31m         \u001b[0mvalues\u001b[0m \u001b[0;34m=\u001b[0m \u001b[0mvalues\u001b[0m\u001b[0;34m.\u001b[0m\u001b[0mastype\u001b[0m\u001b[0;34m(\u001b[0m\u001b[0mdtype\u001b[0m\u001b[0;34m,\u001b[0m \u001b[0mcopy\u001b[0m\u001b[0;34m=\u001b[0m\u001b[0mcopy\u001b[0m\u001b[0;34m)\u001b[0m\u001b[0;34m\u001b[0m\u001b[0;34m\u001b[0m\u001b[0m\n\u001b[0m\u001b[1;32m    180\u001b[0m \u001b[0;34m\u001b[0m\u001b[0m\n\u001b[1;32m    181\u001b[0m     \u001b[0;32melse\u001b[0m\u001b[0;34m:\u001b[0m\u001b[0;34m\u001b[0m\u001b[0;34m\u001b[0m\u001b[0m\n",
            "\u001b[0;32m/usr/local/lib/python3.10/dist-packages/pandas/core/arrays/timedeltas.py\u001b[0m in \u001b[0;36mastype\u001b[0;34m(self, dtype, copy)\u001b[0m\n\u001b[1;32m    356\u001b[0m                 )\n\u001b[1;32m    357\u001b[0m             \u001b[0;32melse\u001b[0m\u001b[0;34m:\u001b[0m\u001b[0;34m\u001b[0m\u001b[0;34m\u001b[0m\u001b[0m\n\u001b[0;32m--> 358\u001b[0;31m                 raise ValueError(\n\u001b[0m\u001b[1;32m    359\u001b[0m                     \u001b[0;34mf\"Cannot convert from {self.dtype} to {dtype}. \"\u001b[0m\u001b[0;34m\u001b[0m\u001b[0;34m\u001b[0m\u001b[0m\n\u001b[1;32m    360\u001b[0m                     \u001b[0;34m\"Supported resolutions are 's', 'ms', 'us', 'ns'\"\u001b[0m\u001b[0;34m\u001b[0m\u001b[0;34m\u001b[0m\u001b[0m\n",
            "\u001b[0;31mValueError\u001b[0m: Cannot convert from timedelta64[ns] to timedelta64[Y]. Supported resolutions are 's', 'ms', 'us', 'ns'"
          ]
        }
      ]
    },
    {
      "source": [
        "#Bước 2: Tính tuổi của từng người\n",
        "now = pd.Timestamp.now()\n",
        "df_valid['Tuoi'] = (now - df_valid['NgaySinh']) / pd.Timedelta(days=365.25) # Chia cho Timedelta 365.25 ngày để tính tuổi\n",
        "# or df_valid['Tuoi'] = (now - df_valid['NgaySinh']).dt.days / 365.25\n",
        "#Bước 3: Tính độ tuổi trung bình\n",
        "average_age = df_valid['Tuoi'].mean()\n",
        "print(f\"Độ tuổi trung bình: {average_age}\")"
      ],
      "cell_type": "code",
      "metadata": {
        "colab": {
          "base_uri": "https://localhost:8080/"
        },
        "id": "s1HUhaTs8oEf",
        "outputId": "8606109c-2a78-47a6-a010-c4a8ee3a1d36"
      },
      "execution_count": 16,
      "outputs": [
        {
          "output_type": "stream",
          "name": "stdout",
          "text": [
            "Độ tuổi trung bình: 22.699417305106785\n"
          ]
        },
        {
          "output_type": "stream",
          "name": "stderr",
          "text": [
            "<ipython-input-16-7204fc73eaa9>:3: SettingWithCopyWarning: \n",
            "A value is trying to be set on a copy of a slice from a DataFrame.\n",
            "Try using .loc[row_indexer,col_indexer] = value instead\n",
            "\n",
            "See the caveats in the documentation: https://pandas.pydata.org/pandas-docs/stable/user_guide/indexing.html#returning-a-view-versus-a-copy\n",
            "  df_valid['Tuoi'] = (now - df_valid['NgaySinh']) / pd.Timedelta(days=365.25) # Chia cho Timedelta 365.25 ngày để tính tuổi\n"
          ]
        }
      ]
    },
    {
      "source": [],
      "cell_type": "code",
      "metadata": {
        "id": "Bc7qTZCs8Z2F"
      },
      "execution_count": null,
      "outputs": []
    },
    {
      "source": [
        "\n",
        "\n",
        "# Assuming you've already calculated the 'Tuoi' column as shown in the previous response\n",
        "\n",
        "# Get the age counts for ages 20 and above\n",
        "age_counts = df_valid['Tuoi'].apply(lambda x: int(x) if x >= 20 else None).value_counts().sort_index()\n",
        "\n",
        "# Display the age counts\n",
        "print(\"Số lượng theo từng độ tuổi:\")\n",
        "for age, count in age_counts.items():\n",
        "    print(f\"Tuổi {age}: {count} người\")"
      ],
      "cell_type": "code",
      "metadata": {
        "colab": {
          "base_uri": "https://localhost:8080/"
        },
        "id": "K1oJRQFZ8-NE",
        "outputId": "f324eda6-9050-4e3c-fce0-5713938468cc"
      },
      "execution_count": 17,
      "outputs": [
        {
          "output_type": "stream",
          "name": "stdout",
          "text": [
            "Số lượng theo từng độ tuổi:\n",
            "Tuổi 20.0: 24 người\n",
            "Tuổi 21.0: 41 người\n",
            "Tuổi 22.0: 45 người\n",
            "Tuổi 23.0: 51 người\n",
            "Tuổi 24.0: 30 người\n",
            "Tuổi 25.0: 12 người\n",
            "Tuổi 26.0: 5 người\n"
          ]
        }
      ]
    },
    {
      "source": [
        "import pandas as pd\n",
        "from scipy import stats\n",
        "\n",
        "# Assuming you've already calculated the 'Tuoi' column\n",
        "\n",
        "# Calculate the mode\n",
        "mode_result = stats.mode(df_valid['Tuoi'])\n",
        "# Access the mode and count attributes directly\n",
        "print(f\"Mode (Giá trị xuất hiện nhiều nhất): {mode_result.mode}, Số lần xuất hiện: {mode_result.count}\")\n",
        "\n",
        "# Calculate the median\n",
        "median = df_valid['Tuoi'].median()\n",
        "print(f\"Median (Giá trị trung vị): {median}\")"
      ],
      "cell_type": "code",
      "metadata": {
        "colab": {
          "base_uri": "https://localhost:8080/"
        },
        "id": "GAukqoip9YOT",
        "outputId": "b62f3440-8cbf-44c7-d613-00966f9ecc01"
      },
      "execution_count": 22,
      "outputs": [
        {
          "output_type": "stream",
          "name": "stdout",
          "text": [
            "Mode (Giá trị xuất hiện nhiều nhất): 20.99300202292148, Số lần xuất hiện: 2\n",
            "Median (Giá trị trung vị): 22.808197094790067\n"
          ]
        }
      ]
    },
    {
      "source": [
        "import pandas as pd\n",
        "\n",
        "# Assuming you have the 'NgaySinh' column in your df_valid DataFrame\n",
        "\n",
        "# Extract year and month from 'NgaySinh'\n",
        "df_valid['Year'] = pd.to_datetime(df_valid['NgaySinh']).dt.year\n",
        "df_valid['Month'] = pd.to_datetime(df_valid['NgaySinh']).dt.month\n",
        "\n",
        "# Filter data for years 2000-2004\n",
        "filtered_df = df_valid[(df_valid['Year'] >= 2000) & (df_valid['Year'] <= 2004)]\n",
        "\n",
        "# Create a pivot table to count births by year and month\n",
        "birth_counts = pd.pivot_table(\n",
        "    filtered_df,\n",
        "    values='MSSV',  # Use any column to count, here we use 'MSSV'\n",
        "    index='Year',\n",
        "    columns='Month',\n",
        "    aggfunc='count',\n",
        "    fill_value=0  # Fill missing values with 0\n",
        ")\n",
        "\n",
        "# Add total columns and rows\n",
        "birth_counts['Total'] = birth_counts.sum(axis=1)  # Total for each year\n",
        "birth_counts.loc['Total'] = birth_counts.sum()  # Total for each month\n",
        "\n",
        "# Display the table\n",
        "print(birth_counts)"
      ],
      "cell_type": "code",
      "metadata": {
        "colab": {
          "base_uri": "https://localhost:8080/"
        },
        "id": "fobV-m9G9lvO",
        "outputId": "fdb48225-43a1-4259-8223-a3dbddab7d29"
      },
      "execution_count": 23,
      "outputs": [
        {
          "output_type": "stream",
          "name": "stdout",
          "text": [
            "Month   1   2   3   4   5   6   7   8   9  10  11  12  Total\n",
            "Year                                                        \n",
            "2000    2   3   4   3   3   4   4   3   2   2   3   3     36\n",
            "2001    7   6   3   4   4   5   2   3   7   5   4   6     56\n",
            "2002    4   3   5   5   2   1   6   3   2   5   1   2     39\n",
            "2003    5   3   5   2   3   1   8   3   2   8   1   3     44\n",
            "2004    0   1   1   1   1   2   1   3   3   2   4   1     20\n",
            "Total  18  16  18  15  13  13  21  15  16  22  13  15    195\n"
          ]
        },
        {
          "output_type": "stream",
          "name": "stderr",
          "text": [
            "<ipython-input-23-53f0ac184b27>:6: SettingWithCopyWarning: \n",
            "A value is trying to be set on a copy of a slice from a DataFrame.\n",
            "Try using .loc[row_indexer,col_indexer] = value instead\n",
            "\n",
            "See the caveats in the documentation: https://pandas.pydata.org/pandas-docs/stable/user_guide/indexing.html#returning-a-view-versus-a-copy\n",
            "  df_valid['Year'] = pd.to_datetime(df_valid['NgaySinh']).dt.year\n",
            "<ipython-input-23-53f0ac184b27>:7: SettingWithCopyWarning: \n",
            "A value is trying to be set on a copy of a slice from a DataFrame.\n",
            "Try using .loc[row_indexer,col_indexer] = value instead\n",
            "\n",
            "See the caveats in the documentation: https://pandas.pydata.org/pandas-docs/stable/user_guide/indexing.html#returning-a-view-versus-a-copy\n",
            "  df_valid['Month'] = pd.to_datetime(df_valid['NgaySinh']).dt.month\n"
          ]
        }
      ]
    },
    {
      "source": [
        "import pandas as pd\n",
        "import matplotlib.pyplot as plt\n",
        "\n",
        "# Assuming you have already created the 'birth_counts' pivot table\n",
        "\n",
        "# Transpose the table for easier plotting\n",
        "birth_counts_transposed = birth_counts.T.drop('Total')  # Drop the 'Total' row\n",
        "\n",
        "# Create the bar chart\n",
        "birth_counts_transposed.plot(kind='bar', figsize=(10, 6))\n",
        "\n",
        "# Customize the chart\n",
        "plt.title('Số lượng sinh vào tháng T của các năm N')\n",
        "plt.xlabel('Tháng')\n",
        "plt.ylabel('Số lượng')\n",
        "plt.xticks(rotation=0)  # Keep x-axis labels horizontal\n",
        "plt.legend(title='Năm')\n",
        "\n",
        "# Show the chart\n",
        "plt.tight_layout()\n",
        "plt.show()"
      ],
      "cell_type": "code",
      "metadata": {
        "colab": {
          "base_uri": "https://localhost:8080/",
          "height": 607
        },
        "id": "NALgcaPb913q",
        "outputId": "f9f86447-1621-4ec9-8d4a-648cabcaa400"
      },
      "execution_count": 25,
      "outputs": [
        {
          "output_type": "display_data",
          "data": {
            "text/plain": [
              "<Figure size 1000x600 with 1 Axes>"
            ],
            "image/png": "[encoded data removed]"
          },
          "metadata": {}
        }
      ]
    },
    {
      "source": [
        "import pandas as pd\n",
        "import matplotlib.pyplot as plt\n",
        "from mpl_toolkits.mplot3d import Axes3D\n",
        "\n",
        "# Assuming you have the 'birth_counts' pivot table\n",
        "\n",
        "# Create figure and axes\n",
        "fig = plt.figure(figsize=(10, 8))\n",
        "ax = fig.add_subplot(111, projection='3d')\n",
        "\n",
        "# Get data for plotting\n",
        "years = birth_counts.index[:-1]  # Exclude 'Total' row\n",
        "months = birth_counts.columns[:-1]  # Exclude 'Total' column\n",
        "X, Y = [], []\n",
        "for year in years:\n",
        "    for month in months:\n",
        "        X.append(year)\n",
        "        Y.append(month)\n",
        "\n",
        "Z = birth_counts.values[:-1, :-1].flatten()  # Exclude totals\n",
        "\n",
        "# Create the 3D bar chart\n",
        "ax.bar3d(X, Y, [0] * len(Z), 1, 1, Z)\n",
        "\n",
        "# Customize the chart\n",
        "ax.set_xlabel('Năm')\n",
        "ax.set_ylabel('Tháng')\n",
        "ax.set_zlabel('Số lượng')\n",
        "ax.set_title('Biểu đồ 3D số lượng sinh')\n",
        "\n",
        "# Convert years and months to numeric if necessary\n",
        "years = pd.to_numeric(years, errors='coerce')\n",
        "months = pd.to_numeric(months, errors='coerce')\n",
        "# Set x and y ticks using the converted numeric values\n",
        "ax.set_xticks(years.dropna().unique()) # added dropna() to handle potential NaN values after conversion\n",
        "ax.set_yticks(months.dropna().unique())  # added dropna() to handle potential NaN values after conversion\n",
        "\n",
        "\n",
        "# Show the chart\n",
        "plt.show()"
      ],
      "cell_type": "code",
      "metadata": {
        "colab": {
          "base_uri": "https://localhost:8080/",
          "height": 677
        },
        "id": "uie1ub6z-IRS",
        "outputId": "a97087f8-167d-44c4-bceb-75d37144fc7e"
      },
      "execution_count": 27,
      "outputs": [
        {
          "output_type": "display_data",
          "data": {
            "text/plain": [
              "<Figure size 1000x800 with 1 Axes>"
            ],
            "image/png": "[encoded data removed]"
          },
          "metadata": {}
        }
      ]
    }
  ]
}